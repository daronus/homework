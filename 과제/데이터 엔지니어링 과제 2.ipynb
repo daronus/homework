{
 "cells": [
  {
   "cell_type": "code",
   "execution_count": 3,
   "id": "fa98764b",
   "metadata": {},
   "outputs": [
    {
     "name": "stdout",
     "output_type": "stream",
     "text": [
      "[['physics', 98], ['calculus', 97], ['poetry', 85], ['history', 88]]\n",
      "[['politics', 80], ['latin', 96], ['dance', 97], ['architecture', 65], ['physics', 98], ['calculus', 97], ['history', 88], ['computer science', 100], ['visual arts', 98], ['poetry', 'Pass']]\n"
     ]
    }
   ],
   "source": [
    "\n",
    "subjects = [\"physics\", \"calculus\", \"poetry\", \"history\"]\n",
    "grades = [98, 97, 85, 88]\n",
    "\n",
    "\n",
    "gradebook = []\n",
    "for i in range(len(subjects)):\n",
    "    gradebook.append([subjects[i], grades[i]])\n",
    "\n",
    "\n",
    "print(gradebook)\n",
    "\n",
    "\n",
    "gradebook.append([\"computer science\", 100])\n",
    "\n",
    "\n",
    "gradebook.append([\"visual arts\", 93])\n",
    "\n",
    "\n",
    "for item in gradebook:\n",
    "    if item[0] == \"visual arts\":\n",
    "        item[1] += 5\n",
    "\n",
    "\n",
    "for item in gradebook:\n",
    "    if item[0] == \"poetry\":\n",
    "        gradebook.remove(item)\n",
    "        gradebook.append([\"poetry\", \"Pass\"])\n",
    "\n",
    "last_semester_gradebook = [[\"politics\", 80], [\"latin\", 96], [\"dance\", 97], [\"architecture\", 65]]\n",
    "\n",
    "\n",
    "full_gradebook = last_semester_gradebook + gradebook\n",
    "\n",
    "\n",
    "print(full_gradebook)\n"
   ]
  }
 ],
 "metadata": {
  "kernelspec": {
   "display_name": "Python 3 (ipykernel)",
   "language": "python",
   "name": "python3"
  },
  "language_info": {
   "codemirror_mode": {
    "name": "ipython",
    "version": 3
   },
   "file_extension": ".py",
   "mimetype": "text/x-python",
   "name": "python",
   "nbconvert_exporter": "python",
   "pygments_lexer": "ipython3",
   "version": "3.11.4"
  }
 },
 "nbformat": 4,
 "nbformat_minor": 5
}
